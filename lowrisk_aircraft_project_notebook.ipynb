{
 "cells": [
  {
   "cell_type": "markdown",
   "metadata": {},
   "source": [
    "# Business Understanding"
   ]
  },
  {
   "cell_type": "markdown",
   "metadata": {},
   "source": [
    "The company is looking to expand into new industries to diversify its portfolio. They are primarily interested in purchasing and operating airplanes for commercial enterprises, and are wanting to look into the potential risks of aircraft. Through the use of aviation accident data recorded by the Natiaonl Transportation Safety Board, we will identify aircraft that pose the lowest risk to help the company come to a decision for its first aircraft purchases."
   ]
  },
  {
   "cell_type": "markdown",
   "metadata": {},
   "source": [
    "# Data Understanding"
   ]
  },
  {
   "cell_type": "markdown",
   "metadata": {},
   "source": [
    "The aviation accident data recorded by the National Transportation Safety Board, includes aviation accidents recorded from 1962 to 2023. This data contains records for civil aviation accidents and selected incidents in the United States as well as international waters for aerial vehicles ranging from gliders and balloons, to jet planes for both commercial and military."
   ]
  },
  {
   "cell_type": "code",
   "execution_count": 1,
   "metadata": {},
   "outputs": [],
   "source": [
    "# Importing the necessary tools\n",
    "import pandas as pd\n",
    "import matplotlib as plt\n",
    "%matplotlib inline\n",
    "\n",
    "pd.options.mode.copy_on_write = True"
   ]
  },
  {
   "cell_type": "code",
   "execution_count": 2,
   "metadata": {
    "scrolled": true
   },
   "outputs": [
    {
     "name": "stderr",
     "output_type": "stream",
     "text": [
      "<ipython-input-2-fb490852ed91>:2: DtypeWarning: Columns (6,7,28) have mixed types. Specify dtype option on import or set low_memory=False.\n",
      "  aviation_data = pd.read_csv('Aviation_Data.csv' )\n"
     ]
    }
   ],
   "source": [
    "# Importing 'Aviation_Data.csv'\n",
    "aviation_data = pd.read_csv('Aviation_Data.csv' )"
   ]
  },
  {
   "cell_type": "markdown",
   "metadata": {},
   "source": [
    "## Data Preparation/Cleaning"
   ]
  },
  {
   "cell_type": "markdown",
   "metadata": {},
   "source": [
    "For Data Preperation and cleaning, I first create a new dataframe from the aviation data that contains the columns that will be the most benificial. From there I normalize the column names and start dropping rows with with values that do not fit the commercial plane criteria."
   ]
  },
  {
   "cell_type": "code",
   "execution_count": 3,
   "metadata": {},
   "outputs": [
    {
     "data": {
      "text/html": [
       "<div>\n",
       "<style scoped>\n",
       "    .dataframe tbody tr th:only-of-type {\n",
       "        vertical-align: middle;\n",
       "    }\n",
       "\n",
       "    .dataframe tbody tr th {\n",
       "        vertical-align: top;\n",
       "    }\n",
       "\n",
       "    .dataframe thead th {\n",
       "        text-align: right;\n",
       "    }\n",
       "</style>\n",
       "<table border=\"1\" class=\"dataframe\">\n",
       "  <thead>\n",
       "    <tr style=\"text-align: right;\">\n",
       "      <th></th>\n",
       "      <th>Aircraft.Category</th>\n",
       "      <th>Make</th>\n",
       "      <th>Model</th>\n",
       "      <th>Engine.Type</th>\n",
       "      <th>Number.of.Engines</th>\n",
       "      <th>Aircraft.damage</th>\n",
       "      <th>Injury.Severity</th>\n",
       "      <th>Weather.Condition</th>\n",
       "      <th>Event.Date</th>\n",
       "    </tr>\n",
       "  </thead>\n",
       "  <tbody>\n",
       "    <tr>\n",
       "      <th>0</th>\n",
       "      <td>NaN</td>\n",
       "      <td>Stinson</td>\n",
       "      <td>108-3</td>\n",
       "      <td>Reciprocating</td>\n",
       "      <td>1.0</td>\n",
       "      <td>Destroyed</td>\n",
       "      <td>Fatal(2)</td>\n",
       "      <td>UNK</td>\n",
       "      <td>1948-10-24</td>\n",
       "    </tr>\n",
       "    <tr>\n",
       "      <th>1</th>\n",
       "      <td>NaN</td>\n",
       "      <td>Piper</td>\n",
       "      <td>PA24-180</td>\n",
       "      <td>Reciprocating</td>\n",
       "      <td>1.0</td>\n",
       "      <td>Destroyed</td>\n",
       "      <td>Fatal(4)</td>\n",
       "      <td>UNK</td>\n",
       "      <td>1962-07-19</td>\n",
       "    </tr>\n",
       "    <tr>\n",
       "      <th>2</th>\n",
       "      <td>NaN</td>\n",
       "      <td>Cessna</td>\n",
       "      <td>172M</td>\n",
       "      <td>Reciprocating</td>\n",
       "      <td>1.0</td>\n",
       "      <td>Destroyed</td>\n",
       "      <td>Fatal(3)</td>\n",
       "      <td>IMC</td>\n",
       "      <td>1974-08-30</td>\n",
       "    </tr>\n",
       "    <tr>\n",
       "      <th>3</th>\n",
       "      <td>NaN</td>\n",
       "      <td>Rockwell</td>\n",
       "      <td>112</td>\n",
       "      <td>Reciprocating</td>\n",
       "      <td>1.0</td>\n",
       "      <td>Destroyed</td>\n",
       "      <td>Fatal(2)</td>\n",
       "      <td>IMC</td>\n",
       "      <td>1977-06-19</td>\n",
       "    </tr>\n",
       "    <tr>\n",
       "      <th>4</th>\n",
       "      <td>NaN</td>\n",
       "      <td>Cessna</td>\n",
       "      <td>501</td>\n",
       "      <td>NaN</td>\n",
       "      <td>NaN</td>\n",
       "      <td>Destroyed</td>\n",
       "      <td>Fatal(1)</td>\n",
       "      <td>VMC</td>\n",
       "      <td>1979-08-02</td>\n",
       "    </tr>\n",
       "  </tbody>\n",
       "</table>\n",
       "</div>"
      ],
      "text/plain": [
       "  Aircraft.Category      Make     Model    Engine.Type  Number.of.Engines  \\\n",
       "0               NaN   Stinson     108-3  Reciprocating                1.0   \n",
       "1               NaN     Piper  PA24-180  Reciprocating                1.0   \n",
       "2               NaN    Cessna      172M  Reciprocating                1.0   \n",
       "3               NaN  Rockwell       112  Reciprocating                1.0   \n",
       "4               NaN    Cessna       501            NaN                NaN   \n",
       "\n",
       "  Aircraft.damage Injury.Severity Weather.Condition  Event.Date  \n",
       "0       Destroyed        Fatal(2)               UNK  1948-10-24  \n",
       "1       Destroyed        Fatal(4)               UNK  1962-07-19  \n",
       "2       Destroyed        Fatal(3)               IMC  1974-08-30  \n",
       "3       Destroyed        Fatal(2)               IMC  1977-06-19  \n",
       "4       Destroyed        Fatal(1)               VMC  1979-08-02  "
      ]
     },
     "execution_count": 3,
     "metadata": {},
     "output_type": "execute_result"
    }
   ],
   "source": [
    "# Creating a new dataframe with specific columns\n",
    "avi_records = aviation_data[['Aircraft.Category', 'Make', 'Model', 'Engine.Type', 'Number.of.Engines',\n",
    "                             'Aircraft.damage', 'Injury.Severity', 'Weather.Condition', 'Event.Date']]\n",
    "avi_records.head()"
   ]
  },
  {
   "cell_type": "code",
   "execution_count": 4,
   "metadata": {
    "scrolled": true
   },
   "outputs": [
    {
     "data": {
      "text/html": [
       "<div>\n",
       "<style scoped>\n",
       "    .dataframe tbody tr th:only-of-type {\n",
       "        vertical-align: middle;\n",
       "    }\n",
       "\n",
       "    .dataframe tbody tr th {\n",
       "        vertical-align: top;\n",
       "    }\n",
       "\n",
       "    .dataframe thead th {\n",
       "        text-align: right;\n",
       "    }\n",
       "</style>\n",
       "<table border=\"1\" class=\"dataframe\">\n",
       "  <thead>\n",
       "    <tr style=\"text-align: right;\">\n",
       "      <th></th>\n",
       "      <th>Aircraft_Category</th>\n",
       "      <th>Make</th>\n",
       "      <th>Model</th>\n",
       "      <th>Engine_Type</th>\n",
       "      <th>Number_of_Engines</th>\n",
       "      <th>Aircraft_damage</th>\n",
       "      <th>Injury_Severity</th>\n",
       "      <th>Weather_Condition</th>\n",
       "      <th>Event_Date</th>\n",
       "    </tr>\n",
       "  </thead>\n",
       "  <tbody>\n",
       "    <tr>\n",
       "      <th>0</th>\n",
       "      <td>NaN</td>\n",
       "      <td>Stinson</td>\n",
       "      <td>108-3</td>\n",
       "      <td>Reciprocating</td>\n",
       "      <td>1.0</td>\n",
       "      <td>Destroyed</td>\n",
       "      <td>Fatal(2)</td>\n",
       "      <td>UNK</td>\n",
       "      <td>1948-10-24</td>\n",
       "    </tr>\n",
       "    <tr>\n",
       "      <th>1</th>\n",
       "      <td>NaN</td>\n",
       "      <td>Piper</td>\n",
       "      <td>PA24-180</td>\n",
       "      <td>Reciprocating</td>\n",
       "      <td>1.0</td>\n",
       "      <td>Destroyed</td>\n",
       "      <td>Fatal(4)</td>\n",
       "      <td>UNK</td>\n",
       "      <td>1962-07-19</td>\n",
       "    </tr>\n",
       "    <tr>\n",
       "      <th>2</th>\n",
       "      <td>NaN</td>\n",
       "      <td>Cessna</td>\n",
       "      <td>172M</td>\n",
       "      <td>Reciprocating</td>\n",
       "      <td>1.0</td>\n",
       "      <td>Destroyed</td>\n",
       "      <td>Fatal(3)</td>\n",
       "      <td>IMC</td>\n",
       "      <td>1974-08-30</td>\n",
       "    </tr>\n",
       "  </tbody>\n",
       "</table>\n",
       "</div>"
      ],
      "text/plain": [
       "  Aircraft_Category     Make     Model    Engine_Type  Number_of_Engines  \\\n",
       "0               NaN  Stinson     108-3  Reciprocating                1.0   \n",
       "1               NaN    Piper  PA24-180  Reciprocating                1.0   \n",
       "2               NaN   Cessna      172M  Reciprocating                1.0   \n",
       "\n",
       "  Aircraft_damage Injury_Severity Weather_Condition  Event_Date  \n",
       "0       Destroyed        Fatal(2)               UNK  1948-10-24  \n",
       "1       Destroyed        Fatal(4)               UNK  1962-07-19  \n",
       "2       Destroyed        Fatal(3)               IMC  1974-08-30  "
      ]
     },
     "execution_count": 4,
     "metadata": {},
     "output_type": "execute_result"
    }
   ],
   "source": [
    "avi_records = avi_records.rename(columns=lambda name: name.replace('.', '_'))\n",
    "avi_records.head(3)"
   ]
  },
  {
   "cell_type": "code",
   "execution_count": 5,
   "metadata": {
    "scrolled": true
   },
   "outputs": [
    {
     "data": {
      "text/html": [
       "<div>\n",
       "<style scoped>\n",
       "    .dataframe tbody tr th:only-of-type {\n",
       "        vertical-align: middle;\n",
       "    }\n",
       "\n",
       "    .dataframe tbody tr th {\n",
       "        vertical-align: top;\n",
       "    }\n",
       "\n",
       "    .dataframe thead th {\n",
       "        text-align: right;\n",
       "    }\n",
       "</style>\n",
       "<table border=\"1\" class=\"dataframe\">\n",
       "  <thead>\n",
       "    <tr style=\"text-align: right;\">\n",
       "      <th></th>\n",
       "      <th>Aircraft_Category</th>\n",
       "      <th>Make</th>\n",
       "      <th>Model</th>\n",
       "      <th>Engine_Type</th>\n",
       "      <th>Number_of_Engines</th>\n",
       "      <th>Aircraft_damage</th>\n",
       "      <th>Injury_Severity</th>\n",
       "      <th>Weather_Condition</th>\n",
       "      <th>Event_Date</th>\n",
       "    </tr>\n",
       "  </thead>\n",
       "  <tbody>\n",
       "    <tr>\n",
       "      <th>0</th>\n",
       "      <td>NaN</td>\n",
       "      <td>Stinson</td>\n",
       "      <td>108-3</td>\n",
       "      <td>Reciprocating</td>\n",
       "      <td>1.0</td>\n",
       "      <td>Destroyed</td>\n",
       "      <td>Fatal(2)</td>\n",
       "      <td>UNK</td>\n",
       "      <td>1948-10-24</td>\n",
       "    </tr>\n",
       "    <tr>\n",
       "      <th>1</th>\n",
       "      <td>NaN</td>\n",
       "      <td>Piper</td>\n",
       "      <td>PA24-180</td>\n",
       "      <td>Reciprocating</td>\n",
       "      <td>1.0</td>\n",
       "      <td>Destroyed</td>\n",
       "      <td>Fatal(4)</td>\n",
       "      <td>UNK</td>\n",
       "      <td>1962-07-19</td>\n",
       "    </tr>\n",
       "    <tr>\n",
       "      <th>2</th>\n",
       "      <td>NaN</td>\n",
       "      <td>Cessna</td>\n",
       "      <td>172M</td>\n",
       "      <td>Reciprocating</td>\n",
       "      <td>1.0</td>\n",
       "      <td>Destroyed</td>\n",
       "      <td>Fatal(3)</td>\n",
       "      <td>IMC</td>\n",
       "      <td>1974-08-30</td>\n",
       "    </tr>\n",
       "  </tbody>\n",
       "</table>\n",
       "</div>"
      ],
      "text/plain": [
       "  Aircraft_Category     Make     Model    Engine_Type  Number_of_Engines  \\\n",
       "0               NaN  Stinson     108-3  Reciprocating                1.0   \n",
       "1               NaN    Piper  PA24-180  Reciprocating                1.0   \n",
       "2               NaN   Cessna      172M  Reciprocating                1.0   \n",
       "\n",
       "  Aircraft_damage Injury_Severity Weather_Condition  Event_Date  \n",
       "0       Destroyed        Fatal(2)               UNK  1948-10-24  \n",
       "1       Destroyed        Fatal(4)               UNK  1962-07-19  \n",
       "2       Destroyed        Fatal(3)               IMC  1974-08-30  "
      ]
     },
     "execution_count": 5,
     "metadata": {},
     "output_type": "execute_result"
    }
   ],
   "source": [
    "# Turning strings in 'Make' to title to make values uniform\n",
    "avi_records['Make'] = avi_records['Make'].str.title()\n",
    "avi_records.head(3)"
   ]
  },
  {
   "cell_type": "code",
   "execution_count": 6,
   "metadata": {},
   "outputs": [],
   "source": [
    "avi_records['Event_Date'] = pd.to_datetime(avi_records['Event_Date'], format='ISO8601')"
   ]
  },
  {
   "cell_type": "code",
   "execution_count": 7,
   "metadata": {},
   "outputs": [],
   "source": [
    "# Dropping rows with unwanted engine types and keeping NaN\n",
    "unwanted_eng_type = ['Reciprocating', 'Turbo Prop', 'Electric', 'Hybrid Rocket', 'Turbo Shaft',\n",
    "                    'LR', 'NONE', 'UNK']\n",
    "avi_records = avi_records[~avi_records['Engine_Type'].isin(unwanted_eng_type)]"
   ]
  },
  {
   "cell_type": "code",
   "execution_count": 8,
   "metadata": {},
   "outputs": [],
   "source": [
    "# Dropping rows with unwanted Aircraft Category and keeping NaN\n",
    "unwanted_craft_cate = ['Helicopter', 'Glider', 'Balloon', 'Weight-Shift','Gyrocraft', 'WSFT', \n",
    "                       'Ultralight', 'Powered Parachute', 'Powered-Lift', 'ULTR', 'UNK', 'Unknown']\n",
    "avi_records = avi_records[~avi_records['Aircraft_Category'].isin(unwanted_craft_cate)]"
   ]
  },
  {
   "cell_type": "code",
   "execution_count": 9,
   "metadata": {},
   "outputs": [],
   "source": [
    "# Dropping rows with unwanted number of engines and keeping NaN\n",
    "unwanted_num_engine = [0, 1, 6]\n",
    "avi_records = avi_records[~avi_records['Number_of_Engines'].isin(unwanted_num_engine)]"
   ]
  },
  {
   "cell_type": "markdown",
   "metadata": {},
   "source": [
    "According to an artical from [Investopedia](https://www.investopedia.com/ask/answers/050415/what-companies-are-major-players-airline-supply-business.asp 'Who Are the Major Airplane Manufacturing Companies?') The two major aircraft manufacturers for commercial use are Boeing and Airbus. I first double check if there are any company name variances in the dataset, and then replace the variances with the respective company's commonly used name."
   ]
  },
  {
   "cell_type": "code",
   "execution_count": 10,
   "metadata": {},
   "outputs": [
    {
     "data": {
      "text/plain": [
       "Make\n",
       "Boeing                            2344\n",
       "Boeing Company                       9\n",
       "The Boeing Company                   9\n",
       "Boeing Vertol                        1\n",
       "Boeing Company, Long Beach Div       1\n",
       "Boeing 777-306Er                     1\n",
       "Boeing Commercial Airplane Gro       1\n",
       "Name: count, dtype: int64"
      ]
     },
     "execution_count": 10,
     "metadata": {},
     "output_type": "execute_result"
    }
   ],
   "source": [
    "# First checking to see if company names were inputed properly\n",
    "avi_records[avi_records['Make'].str.contains('Boeing', case=False, na=False)].Make.value_counts()"
   ]
  },
  {
   "cell_type": "code",
   "execution_count": 11,
   "metadata": {},
   "outputs": [
    {
     "data": {
      "text/plain": [
       "Make\n",
       "Airbus               270\n",
       "Airbus Industrie     161\n",
       "Airbus Industries      1\n",
       "Name: count, dtype: int64"
      ]
     },
     "execution_count": 11,
     "metadata": {},
     "output_type": "execute_result"
    }
   ],
   "source": [
    "avi_records[avi_records['Make'].str.contains('Airbus', case=False, na=False)].Make.value_counts()"
   ]
  },
  {
   "cell_type": "code",
   "execution_count": 12,
   "metadata": {},
   "outputs": [],
   "source": [
    "# Replacing Boeing and Airbus name variants with commonly used names.\n",
    "avi_records['Make'] = avi_records['Make'].replace(['Boeing Company', 'The Boeing Company', 'Boeing Vertol',\n",
    "                                                   'Boeing Company, Long Beach Div', 'Boeing 777-306Er',\n",
    "                                                   'Boeing Commercial Airplane Gro'], 'Boeing')"
   ]
  },
  {
   "cell_type": "code",
   "execution_count": 13,
   "metadata": {},
   "outputs": [],
   "source": [
    "avi_records['Make'] = avi_records['Make'].replace(['Airbus Industrie', 'Airbus Industries'], 'Airbus')"
   ]
  },
  {
   "cell_type": "markdown",
   "metadata": {},
   "source": [
    "After cleaning the names, I create a dataframe for each individual company to further clean as well as further narrow the values in the 'Model' column to show aircraft still in production for [Airbus](https://www.airbus.com/en/products-services/commercial-aircraft/passenger-aircraft 'Airbus Passenger Aircraft'), and [Boeing](https://www.boeing.com/commercial#products-and-services 'Boeing Commercial Aircraft') based off of the individual companies website product list."
   ]
  },
  {
   "cell_type": "code",
   "execution_count": 14,
   "metadata": {
    "scrolled": true
   },
   "outputs": [
    {
     "data": {
      "text/html": [
       "<div>\n",
       "<style scoped>\n",
       "    .dataframe tbody tr th:only-of-type {\n",
       "        vertical-align: middle;\n",
       "    }\n",
       "\n",
       "    .dataframe tbody tr th {\n",
       "        vertical-align: top;\n",
       "    }\n",
       "\n",
       "    .dataframe thead th {\n",
       "        text-align: right;\n",
       "    }\n",
       "</style>\n",
       "<table border=\"1\" class=\"dataframe\">\n",
       "  <thead>\n",
       "    <tr style=\"text-align: right;\">\n",
       "      <th></th>\n",
       "      <th>Aircraft_Category</th>\n",
       "      <th>Make</th>\n",
       "      <th>Model</th>\n",
       "      <th>Engine_Type</th>\n",
       "      <th>Number_of_Engines</th>\n",
       "      <th>Aircraft_damage</th>\n",
       "      <th>Injury_Severity</th>\n",
       "      <th>Weather_Condition</th>\n",
       "      <th>Event_Date</th>\n",
       "    </tr>\n",
       "  </thead>\n",
       "  <tbody>\n",
       "    <tr>\n",
       "      <th>84</th>\n",
       "      <td>NaN</td>\n",
       "      <td>Boeing</td>\n",
       "      <td>737-222</td>\n",
       "      <td>Turbo Fan</td>\n",
       "      <td>2.0</td>\n",
       "      <td>Destroyed</td>\n",
       "      <td>Fatal(78)</td>\n",
       "      <td>IMC</td>\n",
       "      <td>1982-01-13</td>\n",
       "    </tr>\n",
       "    <tr>\n",
       "      <th>320</th>\n",
       "      <td>Airplane</td>\n",
       "      <td>Boeing</td>\n",
       "      <td>B737-2H4</td>\n",
       "      <td>Turbo Jet</td>\n",
       "      <td>2.0</td>\n",
       "      <td>Minor</td>\n",
       "      <td>Incident</td>\n",
       "      <td>IMC</td>\n",
       "      <td>1982-02-15</td>\n",
       "    </tr>\n",
       "    <tr>\n",
       "      <th>344</th>\n",
       "      <td>NaN</td>\n",
       "      <td>Boeing</td>\n",
       "      <td>727-235</td>\n",
       "      <td>Turbo Fan</td>\n",
       "      <td>3.0</td>\n",
       "      <td>Substantial</td>\n",
       "      <td>Non-Fatal</td>\n",
       "      <td>VMC</td>\n",
       "      <td>1982-02-17</td>\n",
       "    </tr>\n",
       "  </tbody>\n",
       "</table>\n",
       "</div>"
      ],
      "text/plain": [
       "    Aircraft_Category    Make     Model Engine_Type  Number_of_Engines  \\\n",
       "84                NaN  Boeing   737-222   Turbo Fan                2.0   \n",
       "320          Airplane  Boeing  B737-2H4   Turbo Jet                2.0   \n",
       "344               NaN  Boeing   727-235   Turbo Fan                3.0   \n",
       "\n",
       "    Aircraft_damage Injury_Severity Weather_Condition Event_Date  \n",
       "84        Destroyed       Fatal(78)               IMC 1982-01-13  \n",
       "320           Minor        Incident               IMC 1982-02-15  \n",
       "344     Substantial       Non-Fatal               VMC 1982-02-17  "
      ]
     },
     "execution_count": 14,
     "metadata": {},
     "output_type": "execute_result"
    }
   ],
   "source": [
    "# Creating a dataframe with Boeing specific aircraft\n",
    "boeing = avi_records[avi_records['Make'].str.contains('Boeing', na=False)]\n",
    "boeing.head(3)"
   ]
  },
  {
   "cell_type": "code",
   "execution_count": 15,
   "metadata": {
    "scrolled": true
   },
   "outputs": [],
   "source": [
    "boeing_production = ['B777', 'B-777', '777', '737-291', '737']\n",
    "boeing = boeing[boeing['Model'].isin(boeing_production)]"
   ]
  },
  {
   "cell_type": "markdown",
   "metadata": {},
   "source": [
    "After some research on the B777, and 737-291 I concluded that these planes are the same Models as the 777 and 737 aircrafts so I replace those values with their commonly used model name."
   ]
  },
  {
   "cell_type": "code",
   "execution_count": 16,
   "metadata": {},
   "outputs": [],
   "source": [
    "# Cleaning the Boeing dataframe\n",
    "boeing['Model'] = boeing['Model'].str.replace('B-777', '777')"
   ]
  },
  {
   "cell_type": "code",
   "execution_count": 17,
   "metadata": {},
   "outputs": [],
   "source": [
    "boeing['Model'] = boeing['Model'].str.replace('B777', '777')"
   ]
  },
  {
   "cell_type": "code",
   "execution_count": 18,
   "metadata": {},
   "outputs": [],
   "source": [
    "boeing['Model'] = boeing['Model'].str.replace('737-291', '737')"
   ]
  },
  {
   "cell_type": "code",
   "execution_count": 19,
   "metadata": {},
   "outputs": [],
   "source": [
    "boeing['Engine_Type'] = boeing['Engine_Type'].fillna('Turbo Fan')"
   ]
  },
  {
   "cell_type": "code",
   "execution_count": 20,
   "metadata": {},
   "outputs": [],
   "source": [
    "boeing['Engine_Type'] = boeing['Engine_Type'].replace('Unknown', 'Turbo Fan')"
   ]
  },
  {
   "cell_type": "code",
   "execution_count": 21,
   "metadata": {},
   "outputs": [],
   "source": [
    "boeing['Number_of_Engines'] = boeing['Number_of_Engines'].fillna(2.0)"
   ]
  },
  {
   "cell_type": "code",
   "execution_count": 22,
   "metadata": {},
   "outputs": [],
   "source": [
    "boeing['Weather_Condition'] = boeing['Weather_Condition'].fillna('UNK')"
   ]
  },
  {
   "cell_type": "code",
   "execution_count": 23,
   "metadata": {},
   "outputs": [],
   "source": [
    "boeing['Aircraft_Category'] = boeing['Aircraft_Category'].fillna('Airplane')"
   ]
  },
  {
   "cell_type": "code",
   "execution_count": 42,
   "metadata": {},
   "outputs": [],
   "source": [
    "boeing= boeing.dropna(subset= ['Aircraft_damage', 'Injury_Severity', 'Event_Date'])"
   ]
  },
  {
   "cell_type": "code",
   "execution_count": 25,
   "metadata": {},
   "outputs": [],
   "source": [
    "boeing['Injury_Severity'] = boeing['Injury_Severity'].apply(lambda x: ''.join(y for y in x if not y.isdigit()))"
   ]
  },
  {
   "cell_type": "code",
   "execution_count": 26,
   "metadata": {},
   "outputs": [
    {
     "data": {
      "text/plain": [
       "Injury_Severity\n",
       "Non-Fatal    136\n",
       "Fatal         18\n",
       "Incident       6\n",
       "Name: count, dtype: int64"
      ]
     },
     "execution_count": 26,
     "metadata": {},
     "output_type": "execute_result"
    }
   ],
   "source": [
    "boeing['Injury_Severity'] = boeing['Injury_Severity'].str.replace('Fatal()', 'Fatal')\n",
    "boeing['Injury_Severity'].value_counts()"
   ]
  },
  {
   "cell_type": "code",
   "execution_count": null,
   "metadata": {},
   "outputs": [],
   "source": []
  },
  {
   "cell_type": "code",
   "execution_count": 27,
   "metadata": {
    "scrolled": true
   },
   "outputs": [
    {
     "data": {
      "text/html": [
       "<div>\n",
       "<style scoped>\n",
       "    .dataframe tbody tr th:only-of-type {\n",
       "        vertical-align: middle;\n",
       "    }\n",
       "\n",
       "    .dataframe tbody tr th {\n",
       "        vertical-align: top;\n",
       "    }\n",
       "\n",
       "    .dataframe thead th {\n",
       "        text-align: right;\n",
       "    }\n",
       "</style>\n",
       "<table border=\"1\" class=\"dataframe\">\n",
       "  <thead>\n",
       "    <tr style=\"text-align: right;\">\n",
       "      <th></th>\n",
       "      <th>Aircraft_Category</th>\n",
       "      <th>Make</th>\n",
       "      <th>Model</th>\n",
       "      <th>Engine_Type</th>\n",
       "      <th>Number_of_Engines</th>\n",
       "      <th>Aircraft_damage</th>\n",
       "      <th>Injury_Severity</th>\n",
       "      <th>Weather_Condition</th>\n",
       "      <th>Event_Date</th>\n",
       "    </tr>\n",
       "  </thead>\n",
       "  <tbody>\n",
       "    <tr>\n",
       "      <th>6737</th>\n",
       "      <td>NaN</td>\n",
       "      <td>Airbus</td>\n",
       "      <td>A-300B4-2C</td>\n",
       "      <td>Turbo Fan</td>\n",
       "      <td>2.0</td>\n",
       "      <td>Minor</td>\n",
       "      <td>Incident</td>\n",
       "      <td>VMC</td>\n",
       "      <td>1983-11-06</td>\n",
       "    </tr>\n",
       "    <tr>\n",
       "      <th>11775</th>\n",
       "      <td>NaN</td>\n",
       "      <td>Airbus</td>\n",
       "      <td>A-300B4-2C</td>\n",
       "      <td>Turbo Fan</td>\n",
       "      <td>2.0</td>\n",
       "      <td>NaN</td>\n",
       "      <td>Non-Fatal</td>\n",
       "      <td>IMC</td>\n",
       "      <td>1985-05-28</td>\n",
       "    </tr>\n",
       "    <tr>\n",
       "      <th>13699</th>\n",
       "      <td>NaN</td>\n",
       "      <td>Airbus</td>\n",
       "      <td>A-300 B4-203</td>\n",
       "      <td>Turbo Fan</td>\n",
       "      <td>2.0</td>\n",
       "      <td>Minor</td>\n",
       "      <td>Incident</td>\n",
       "      <td>VMC</td>\n",
       "      <td>1985-12-30</td>\n",
       "    </tr>\n",
       "  </tbody>\n",
       "</table>\n",
       "</div>"
      ],
      "text/plain": [
       "      Aircraft_Category    Make         Model Engine_Type  Number_of_Engines  \\\n",
       "6737                NaN  Airbus    A-300B4-2C   Turbo Fan                2.0   \n",
       "11775               NaN  Airbus    A-300B4-2C   Turbo Fan                2.0   \n",
       "13699               NaN  Airbus  A-300 B4-203   Turbo Fan                2.0   \n",
       "\n",
       "      Aircraft_damage Injury_Severity Weather_Condition Event_Date  \n",
       "6737            Minor        Incident               VMC 1983-11-06  \n",
       "11775             NaN       Non-Fatal               IMC 1985-05-28  \n",
       "13699           Minor        Incident               VMC 1985-12-30  "
      ]
     },
     "execution_count": 27,
     "metadata": {},
     "output_type": "execute_result"
    }
   ],
   "source": [
    "# Creating a dataframe with Airbus specific aircraft\n",
    "airbus = avi_records[avi_records['Make'].str.contains('Airbus', na=False)]\n",
    "airbus.head(3)"
   ]
  },
  {
   "cell_type": "code",
   "execution_count": 28,
   "metadata": {},
   "outputs": [],
   "source": [
    "# updating airbus dataframe to have only aircraft still in production\n",
    "airbus_production = ['A320-211', 'A-320-211', 'A-320', 'A320', 'A330',\n",
    "                     'A320-321', 'A320-233', '320', 'A321', 'Airbus A330',\n",
    "                     'A320 211', '321', 'A320 - 216', 'A320 - 211', '330', \n",
    "                     'A320 233', 'A321-271N', 'A220', 'A320-271N', 'A320-251N',\n",
    "                     '220']\n",
    "airbus = airbus[airbus['Model'].isin(airbus_production)]"
   ]
  },
  {
   "cell_type": "code",
   "execution_count": 29,
   "metadata": {},
   "outputs": [],
   "source": [
    "# Cleaning the Airbus dataframe\n",
    "airbus['Model'] = airbus['Model'].str.replace('A320 233', 'A320-233')"
   ]
  },
  {
   "cell_type": "code",
   "execution_count": 30,
   "metadata": {},
   "outputs": [],
   "source": [
    "airbus['Model'] = airbus['Model'].str.replace('A320 211', 'A320-211')"
   ]
  },
  {
   "cell_type": "code",
   "execution_count": 31,
   "metadata": {},
   "outputs": [],
   "source": [
    "airbus['Model'] = airbus['Model'].str.replace('Airbus A330', 'A330')"
   ]
  },
  {
   "cell_type": "code",
   "execution_count": 32,
   "metadata": {},
   "outputs": [],
   "source": [
    "airbus['Model'] = airbus['Model'].str.replace(' ', '')"
   ]
  },
  {
   "cell_type": "code",
   "execution_count": 33,
   "metadata": {},
   "outputs": [],
   "source": [
    "airbus['Model'] = airbus['Model'].str.replace('A-320', 'A320')"
   ]
  },
  {
   "cell_type": "code",
   "execution_count": 34,
   "metadata": {},
   "outputs": [],
   "source": [
    "airbus['Model'] = airbus['Model'].apply(lambda x: 'A' + x if not x.startswith('A') else x)"
   ]
  },
  {
   "cell_type": "code",
   "execution_count": 35,
   "metadata": {},
   "outputs": [],
   "source": [
    "airbus['Aircraft_Category'] = airbus['Aircraft_Category'].fillna('Airplane')"
   ]
  },
  {
   "cell_type": "code",
   "execution_count": 36,
   "metadata": {},
   "outputs": [],
   "source": [
    "airbus['Engine_Type'] = airbus['Engine_Type'].fillna('Turbo Fan')"
   ]
  },
  {
   "cell_type": "code",
   "execution_count": 37,
   "metadata": {},
   "outputs": [],
   "source": [
    "airbus['Number_of_Engines'] = airbus['Number_of_Engines'].fillna(2.0)"
   ]
  },
  {
   "cell_type": "code",
   "execution_count": 38,
   "metadata": {},
   "outputs": [],
   "source": [
    "airbus['Weather_Condition'] = airbus['Weather_Condition'].fillna('UNK')"
   ]
  },
  {
   "cell_type": "code",
   "execution_count": 43,
   "metadata": {},
   "outputs": [],
   "source": [
    "airbus = airbus.dropna(subset= ['Injury_Severity', 'Aircraft_damage', 'Event_Date'])"
   ]
  },
  {
   "cell_type": "code",
   "execution_count": 40,
   "metadata": {},
   "outputs": [],
   "source": [
    "airbus['Injury_Severity'] = airbus['Injury_Severity'].apply(lambda x: ''.join(y for y in x if not y.isdigit()))"
   ]
  },
  {
   "cell_type": "code",
   "execution_count": 41,
   "metadata": {},
   "outputs": [
    {
     "data": {
      "text/plain": [
       "Injury_Severity\n",
       "Non-Fatal    30\n",
       "Fatal        13\n",
       "Incident      7\n",
       "Name: count, dtype: int64"
      ]
     },
     "execution_count": 41,
     "metadata": {},
     "output_type": "execute_result"
    }
   ],
   "source": [
    "airbus['Injury_Severity'] = airbus['Injury_Severity'].str.replace('Fatal()', 'Fatal')\n",
    "airbus['Injury_Severity'].value_counts()"
   ]
  },
  {
   "cell_type": "code",
   "execution_count": null,
   "metadata": {},
   "outputs": [],
   "source": []
  },
  {
   "cell_type": "code",
   "execution_count": 44,
   "metadata": {},
   "outputs": [],
   "source": [
    "# Grouping the two datasets and reseting index.\n",
    "top_manufacturers = pd.concat([boeing, airbus])"
   ]
  },
  {
   "cell_type": "code",
   "execution_count": 45,
   "metadata": {},
   "outputs": [
    {
     "data": {
      "text/html": [
       "<div>\n",
       "<style scoped>\n",
       "    .dataframe tbody tr th:only-of-type {\n",
       "        vertical-align: middle;\n",
       "    }\n",
       "\n",
       "    .dataframe tbody tr th {\n",
       "        vertical-align: top;\n",
       "    }\n",
       "\n",
       "    .dataframe thead th {\n",
       "        text-align: right;\n",
       "    }\n",
       "</style>\n",
       "<table border=\"1\" class=\"dataframe\">\n",
       "  <thead>\n",
       "    <tr style=\"text-align: right;\">\n",
       "      <th></th>\n",
       "      <th>Aircraft_Category</th>\n",
       "      <th>Make</th>\n",
       "      <th>Model</th>\n",
       "      <th>Engine_Type</th>\n",
       "      <th>Number_of_Engines</th>\n",
       "      <th>Aircraft_damage</th>\n",
       "      <th>Injury_Severity</th>\n",
       "      <th>Weather_Condition</th>\n",
       "      <th>Event_Date</th>\n",
       "    </tr>\n",
       "  </thead>\n",
       "  <tbody>\n",
       "    <tr>\n",
       "      <th>0</th>\n",
       "      <td>Airplane</td>\n",
       "      <td>Boeing</td>\n",
       "      <td>737</td>\n",
       "      <td>Turbo Fan</td>\n",
       "      <td>2.0</td>\n",
       "      <td>Minor</td>\n",
       "      <td>Incident</td>\n",
       "      <td>VMC</td>\n",
       "      <td>1982-08-05</td>\n",
       "    </tr>\n",
       "    <tr>\n",
       "      <th>1</th>\n",
       "      <td>Airplane</td>\n",
       "      <td>Boeing</td>\n",
       "      <td>737</td>\n",
       "      <td>Turbo Fan</td>\n",
       "      <td>2.0</td>\n",
       "      <td>Minor</td>\n",
       "      <td>Incident</td>\n",
       "      <td>IMC</td>\n",
       "      <td>1982-08-12</td>\n",
       "    </tr>\n",
       "    <tr>\n",
       "      <th>2</th>\n",
       "      <td>Airplane</td>\n",
       "      <td>Boeing</td>\n",
       "      <td>737</td>\n",
       "      <td>Turbo Jet</td>\n",
       "      <td>2.0</td>\n",
       "      <td>Destroyed</td>\n",
       "      <td>Fatal</td>\n",
       "      <td>VMC</td>\n",
       "      <td>1991-03-03</td>\n",
       "    </tr>\n",
       "    <tr>\n",
       "      <th>3</th>\n",
       "      <td>Airplane</td>\n",
       "      <td>Boeing</td>\n",
       "      <td>737</td>\n",
       "      <td>Turbo Fan</td>\n",
       "      <td>2.0</td>\n",
       "      <td>Substantial</td>\n",
       "      <td>Non-Fatal</td>\n",
       "      <td>VMC</td>\n",
       "      <td>1991-10-16</td>\n",
       "    </tr>\n",
       "    <tr>\n",
       "      <th>4</th>\n",
       "      <td>Airplane</td>\n",
       "      <td>Boeing</td>\n",
       "      <td>777</td>\n",
       "      <td>Turbo Fan</td>\n",
       "      <td>2.0</td>\n",
       "      <td>Substantial</td>\n",
       "      <td>Non-Fatal</td>\n",
       "      <td>VMC</td>\n",
       "      <td>1997-05-14</td>\n",
       "    </tr>\n",
       "  </tbody>\n",
       "</table>\n",
       "</div>"
      ],
      "text/plain": [
       "  Aircraft_Category    Make Model Engine_Type  Number_of_Engines  \\\n",
       "0          Airplane  Boeing   737   Turbo Fan                2.0   \n",
       "1          Airplane  Boeing   737   Turbo Fan                2.0   \n",
       "2          Airplane  Boeing   737   Turbo Jet                2.0   \n",
       "3          Airplane  Boeing   737   Turbo Fan                2.0   \n",
       "4          Airplane  Boeing   777   Turbo Fan                2.0   \n",
       "\n",
       "  Aircraft_damage Injury_Severity Weather_Condition Event_Date  \n",
       "0           Minor        Incident               VMC 1982-08-05  \n",
       "1           Minor        Incident               IMC 1982-08-12  \n",
       "2       Destroyed           Fatal               VMC 1991-03-03  \n",
       "3     Substantial       Non-Fatal               VMC 1991-10-16  \n",
       "4     Substantial       Non-Fatal               VMC 1997-05-14  "
      ]
     },
     "execution_count": 45,
     "metadata": {},
     "output_type": "execute_result"
    }
   ],
   "source": [
    "top_manufacturers = top_manufacturers.reset_index(drop=True)\n",
    "top_manufacturers.head()"
   ]
  },
  {
   "cell_type": "code",
   "execution_count": 46,
   "metadata": {},
   "outputs": [],
   "source": [
    "# Saving a cleaned dataset as CSV\n",
    "top_manufacturers.to_csv('cleaned_top_manufacturers_df.csv')"
   ]
  },
  {
   "cell_type": "markdown",
   "metadata": {},
   "source": [
    "# Exploratory Data Analysis"
   ]
  },
  {
   "cell_type": "code",
   "execution_count": null,
   "metadata": {},
   "outputs": [],
   "source": []
  },
  {
   "cell_type": "markdown",
   "metadata": {},
   "source": [
    "## Conclusions"
   ]
  },
  {
   "cell_type": "code",
   "execution_count": null,
   "metadata": {},
   "outputs": [],
   "source": []
  },
  {
   "cell_type": "markdown",
   "metadata": {},
   "source": [
    "## Limitations"
   ]
  },
  {
   "cell_type": "code",
   "execution_count": null,
   "metadata": {},
   "outputs": [],
   "source": []
  },
  {
   "cell_type": "markdown",
   "metadata": {},
   "source": [
    "## Recommendations"
   ]
  },
  {
   "cell_type": "code",
   "execution_count": null,
   "metadata": {},
   "outputs": [],
   "source": []
  },
  {
   "cell_type": "markdown",
   "metadata": {},
   "source": [
    "## Next Steps"
   ]
  },
  {
   "cell_type": "code",
   "execution_count": null,
   "metadata": {},
   "outputs": [],
   "source": []
  }
 ],
 "metadata": {
  "kernelspec": {
   "display_name": "Python (learn-env)",
   "language": "python",
   "name": "learn-env"
  },
  "language_info": {
   "codemirror_mode": {
    "name": "ipython",
    "version": 3
   },
   "file_extension": ".py",
   "mimetype": "text/x-python",
   "name": "python",
   "nbconvert_exporter": "python",
   "pygments_lexer": "ipython3",
   "version": "3.8.5"
  }
 },
 "nbformat": 4,
 "nbformat_minor": 4
}
