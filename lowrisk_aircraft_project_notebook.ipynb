{
 "cells": [
  {
   "cell_type": "markdown",
   "metadata": {},
   "source": [
    "# Business Understanding"
   ]
  },
  {
   "cell_type": "markdown",
   "metadata": {},
   "source": [
    "The company is looking to expand into new industries to diversify its portfolio. They are primarily interested in purchasing and operating airplanes for commercial enterprises, and are wanting to look into the potential risks of aircraft. Through the use of Aviation Accident data recorded by the National Transportation Safety Board, we will identify aircraft that pose the lowest risk to help the company come to a decision for its first aircraft purchases."
   ]
  },
  {
   "cell_type": "markdown",
   "metadata": {},
   "source": [
    "# Data Understanding"
   ]
  },
  {
   "cell_type": "markdown",
   "metadata": {},
   "source": [
    "The aviation accident data recorded by the National Transportation Safety Board, includes aviation accidents recorded from 1962 to 2023. This data contains records for civil aviation accidents and selected incidents in the United States as well as international waters for aerial vehicles ranging from gliders and balloons, to jet planes for both commercial and military."
   ]
  },
  {
   "cell_type": "code",
   "execution_count": 1,
   "metadata": {},
   "outputs": [],
   "source": [
    "# Importing the necessary tools\n",
    "import pandas as pd\n",
    "\n",
    "pd.options.mode.copy_on_write = True"
   ]
  },
  {
   "cell_type": "code",
   "execution_count": 2,
   "metadata": {
    "scrolled": true
   },
   "outputs": [
    {
     "name": "stderr",
     "output_type": "stream",
     "text": [
      "<ipython-input-2-fb490852ed91>:2: DtypeWarning: Columns (6,7,28) have mixed types. Specify dtype option on import or set low_memory=False.\n",
      "  aviation_data = pd.read_csv('Aviation_Data.csv' )\n"
     ]
    }
   ],
   "source": [
    "# Importing 'Aviation_Data.csv'\n",
    "aviation_data = pd.read_csv('Aviation_Data.csv' )"
   ]
  },
  {
   "cell_type": "markdown",
   "metadata": {},
   "source": [
    "## Data Preparation/Cleaning"
   ]
  },
  {
   "cell_type": "markdown",
   "metadata": {},
   "source": [
    "For Data Preperation and cleaning, I first create a new dataframe from the aviation data that contains the columns that will be the most benificial. From there I normalize the column names and start dropping rows with with values that do not fit the commercial plane criteria."
   ]
  },
  {
   "cell_type": "code",
   "execution_count": 3,
   "metadata": {},
   "outputs": [],
   "source": [
    "# Creating a new dataframe with specific columns\n",
    "avi_records = aviation_data[['Aircraft.Category', 'Make', 'Model', 'Engine.Type', 'Number.of.Engines',\n",
    "                             'Aircraft.damage', 'Injury.Severity', 'Weather.Condition', 'Event.Date']]"
   ]
  },
  {
   "cell_type": "code",
   "execution_count": 4,
   "metadata": {},
   "outputs": [],
   "source": [
    "avi_records.columns = avi_records.columns.str.lower()"
   ]
  },
  {
   "cell_type": "code",
   "execution_count": 5,
   "metadata": {
    "scrolled": true
   },
   "outputs": [
    {
     "data": {
      "text/html": [
       "<div>\n",
       "<style scoped>\n",
       "    .dataframe tbody tr th:only-of-type {\n",
       "        vertical-align: middle;\n",
       "    }\n",
       "\n",
       "    .dataframe tbody tr th {\n",
       "        vertical-align: top;\n",
       "    }\n",
       "\n",
       "    .dataframe thead th {\n",
       "        text-align: right;\n",
       "    }\n",
       "</style>\n",
       "<table border=\"1\" class=\"dataframe\">\n",
       "  <thead>\n",
       "    <tr style=\"text-align: right;\">\n",
       "      <th></th>\n",
       "      <th>aircraft_category</th>\n",
       "      <th>make</th>\n",
       "      <th>model</th>\n",
       "      <th>engine_type</th>\n",
       "      <th>number_of_engines</th>\n",
       "      <th>aircraft_damage</th>\n",
       "      <th>injury_severity</th>\n",
       "      <th>weather_condition</th>\n",
       "      <th>event_date</th>\n",
       "    </tr>\n",
       "  </thead>\n",
       "  <tbody>\n",
       "    <tr>\n",
       "      <th>0</th>\n",
       "      <td>NaN</td>\n",
       "      <td>Stinson</td>\n",
       "      <td>108-3</td>\n",
       "      <td>Reciprocating</td>\n",
       "      <td>1.0</td>\n",
       "      <td>Destroyed</td>\n",
       "      <td>Fatal(2)</td>\n",
       "      <td>UNK</td>\n",
       "      <td>1948-10-24</td>\n",
       "    </tr>\n",
       "    <tr>\n",
       "      <th>1</th>\n",
       "      <td>NaN</td>\n",
       "      <td>Piper</td>\n",
       "      <td>PA24-180</td>\n",
       "      <td>Reciprocating</td>\n",
       "      <td>1.0</td>\n",
       "      <td>Destroyed</td>\n",
       "      <td>Fatal(4)</td>\n",
       "      <td>UNK</td>\n",
       "      <td>1962-07-19</td>\n",
       "    </tr>\n",
       "    <tr>\n",
       "      <th>2</th>\n",
       "      <td>NaN</td>\n",
       "      <td>Cessna</td>\n",
       "      <td>172M</td>\n",
       "      <td>Reciprocating</td>\n",
       "      <td>1.0</td>\n",
       "      <td>Destroyed</td>\n",
       "      <td>Fatal(3)</td>\n",
       "      <td>IMC</td>\n",
       "      <td>1974-08-30</td>\n",
       "    </tr>\n",
       "  </tbody>\n",
       "</table>\n",
       "</div>"
      ],
      "text/plain": [
       "  aircraft_category     make     model    engine_type  number_of_engines  \\\n",
       "0               NaN  Stinson     108-3  Reciprocating                1.0   \n",
       "1               NaN    Piper  PA24-180  Reciprocating                1.0   \n",
       "2               NaN   Cessna      172M  Reciprocating                1.0   \n",
       "\n",
       "  aircraft_damage injury_severity weather_condition  event_date  \n",
       "0       Destroyed        Fatal(2)               UNK  1948-10-24  \n",
       "1       Destroyed        Fatal(4)               UNK  1962-07-19  \n",
       "2       Destroyed        Fatal(3)               IMC  1974-08-30  "
      ]
     },
     "execution_count": 5,
     "metadata": {},
     "output_type": "execute_result"
    }
   ],
   "source": [
    "avi_records = avi_records.rename(columns=lambda name: name.replace('.', '_'))\n",
    "avi_records.head(3)"
   ]
  },
  {
   "cell_type": "code",
   "execution_count": 6,
   "metadata": {
    "scrolled": true
   },
   "outputs": [
    {
     "data": {
      "text/html": [
       "<div>\n",
       "<style scoped>\n",
       "    .dataframe tbody tr th:only-of-type {\n",
       "        vertical-align: middle;\n",
       "    }\n",
       "\n",
       "    .dataframe tbody tr th {\n",
       "        vertical-align: top;\n",
       "    }\n",
       "\n",
       "    .dataframe thead th {\n",
       "        text-align: right;\n",
       "    }\n",
       "</style>\n",
       "<table border=\"1\" class=\"dataframe\">\n",
       "  <thead>\n",
       "    <tr style=\"text-align: right;\">\n",
       "      <th></th>\n",
       "      <th>aircraft_category</th>\n",
       "      <th>make</th>\n",
       "      <th>model</th>\n",
       "      <th>engine_type</th>\n",
       "      <th>number_of_engines</th>\n",
       "      <th>aircraft_damage</th>\n",
       "      <th>injury_severity</th>\n",
       "      <th>weather_condition</th>\n",
       "      <th>event_date</th>\n",
       "    </tr>\n",
       "  </thead>\n",
       "  <tbody>\n",
       "    <tr>\n",
       "      <th>0</th>\n",
       "      <td>NaN</td>\n",
       "      <td>Stinson</td>\n",
       "      <td>108-3</td>\n",
       "      <td>Reciprocating</td>\n",
       "      <td>1.0</td>\n",
       "      <td>Destroyed</td>\n",
       "      <td>Fatal(2)</td>\n",
       "      <td>UNK</td>\n",
       "      <td>1948-10-24</td>\n",
       "    </tr>\n",
       "    <tr>\n",
       "      <th>1</th>\n",
       "      <td>NaN</td>\n",
       "      <td>Piper</td>\n",
       "      <td>PA24-180</td>\n",
       "      <td>Reciprocating</td>\n",
       "      <td>1.0</td>\n",
       "      <td>Destroyed</td>\n",
       "      <td>Fatal(4)</td>\n",
       "      <td>UNK</td>\n",
       "      <td>1962-07-19</td>\n",
       "    </tr>\n",
       "    <tr>\n",
       "      <th>2</th>\n",
       "      <td>NaN</td>\n",
       "      <td>Cessna</td>\n",
       "      <td>172M</td>\n",
       "      <td>Reciprocating</td>\n",
       "      <td>1.0</td>\n",
       "      <td>Destroyed</td>\n",
       "      <td>Fatal(3)</td>\n",
       "      <td>IMC</td>\n",
       "      <td>1974-08-30</td>\n",
       "    </tr>\n",
       "  </tbody>\n",
       "</table>\n",
       "</div>"
      ],
      "text/plain": [
       "  aircraft_category     make     model    engine_type  number_of_engines  \\\n",
       "0               NaN  Stinson     108-3  Reciprocating                1.0   \n",
       "1               NaN    Piper  PA24-180  Reciprocating                1.0   \n",
       "2               NaN   Cessna      172M  Reciprocating                1.0   \n",
       "\n",
       "  aircraft_damage injury_severity weather_condition  event_date  \n",
       "0       Destroyed        Fatal(2)               UNK  1948-10-24  \n",
       "1       Destroyed        Fatal(4)               UNK  1962-07-19  \n",
       "2       Destroyed        Fatal(3)               IMC  1974-08-30  "
      ]
     },
     "execution_count": 6,
     "metadata": {},
     "output_type": "execute_result"
    }
   ],
   "source": [
    "# Turning strings in 'Make' to title to make values uniform\n",
    "avi_records['make'] = avi_records['make'].str.title()\n",
    "avi_records.head(3)"
   ]
  },
  {
   "cell_type": "code",
   "execution_count": 7,
   "metadata": {},
   "outputs": [],
   "source": [
    "# Converting date from obj to datetime\n",
    "avi_records['event_date'] = pd.to_datetime(avi_records['event_date'], format='ISO8601')"
   ]
  },
  {
   "cell_type": "code",
   "execution_count": 8,
   "metadata": {},
   "outputs": [],
   "source": [
    "# Dropping rows with unwanted engine types and keeping NaN\n",
    "unwanted_eng_type = ['Reciprocating', 'Turbo Prop', 'Electric', 'Hybrid Rocket', 'Turbo Shaft',\n",
    "                    'LR', 'NONE', 'UNK']\n",
    "avi_records = avi_records[~avi_records['engine_type'].isin(unwanted_eng_type)]"
   ]
  },
  {
   "cell_type": "code",
   "execution_count": 9,
   "metadata": {},
   "outputs": [],
   "source": [
    "# Dropping rows with unwanted Aircraft Category and keeping NaN\n",
    "unwanted_craft_cate = ['Helicopter', 'Glider', 'Balloon', 'Weight-Shift','Gyrocraft', 'WSFT', \n",
    "                       'Ultralight', 'Powered Parachute', 'Powered-Lift', 'ULTR', 'UNK', 'Unknown']\n",
    "avi_records = avi_records[~avi_records['aircraft_category'].isin(unwanted_craft_cate)]"
   ]
  },
  {
   "cell_type": "code",
   "execution_count": 10,
   "metadata": {},
   "outputs": [],
   "source": [
    "# Dropping rows with unwanted number of engines and keeping NaN\n",
    "unwanted_num_engine = [0, 1, 6]\n",
    "avi_records = avi_records[~avi_records['number_of_engines'].isin(unwanted_num_engine)]"
   ]
  },
  {
   "cell_type": "markdown",
   "metadata": {},
   "source": [
    "Since the company is wanting to branch out to the commercial side of aircraft, I did some research to find the leading companies for commercial aircraft. The two major aircraft manufacturers for commercial use are Boeing and Airbus. To narrow down the dataset to these two companies, I first double check if there are any company name variances in the dataset and then replace the variances with the respective company's commonly used name."
   ]
  },
  {
   "cell_type": "code",
   "execution_count": 11,
   "metadata": {},
   "outputs": [
    {
     "data": {
      "text/plain": [
       "make\n",
       "Boeing                            2344\n",
       "Boeing Company                       9\n",
       "The Boeing Company                   9\n",
       "Boeing Vertol                        1\n",
       "Boeing Company, Long Beach Div       1\n",
       "Boeing 777-306Er                     1\n",
       "Boeing Commercial Airplane Gro       1\n",
       "Name: count, dtype: int64"
      ]
     },
     "execution_count": 11,
     "metadata": {},
     "output_type": "execute_result"
    }
   ],
   "source": [
    "# First checking to see if company names were inputed properly\n",
    "avi_records[avi_records['make'].str.contains('Boeing', case=False, na=False)].make.value_counts()"
   ]
  },
  {
   "cell_type": "code",
   "execution_count": 12,
   "metadata": {},
   "outputs": [
    {
     "data": {
      "text/plain": [
       "make\n",
       "Airbus               270\n",
       "Airbus Industrie     161\n",
       "Airbus Industries      1\n",
       "Name: count, dtype: int64"
      ]
     },
     "execution_count": 12,
     "metadata": {},
     "output_type": "execute_result"
    }
   ],
   "source": [
    "avi_records[avi_records['make'].str.contains('Airbus', case=False, na=False)].make.value_counts()"
   ]
  },
  {
   "cell_type": "code",
   "execution_count": 13,
   "metadata": {},
   "outputs": [],
   "source": [
    "# Replacing Boeing and Airbus name variants with commonly used names.\n",
    "avi_records['make'] = avi_records['make'].replace(['Boeing Company', 'The Boeing Company', 'Boeing Vertol',\n",
    "                                                   'Boeing Company, Long Beach Div', 'Boeing 777-306Er',\n",
    "                                                   'Boeing Commercial Airplane Gro'], 'Boeing')"
   ]
  },
  {
   "cell_type": "code",
   "execution_count": 14,
   "metadata": {},
   "outputs": [],
   "source": [
    "avi_records['make'] = avi_records['make'].replace(['Airbus Industrie', 'Airbus Industries'], 'Airbus')"
   ]
  },
  {
   "cell_type": "markdown",
   "metadata": {},
   "source": [
    "### Cleaning Boeing Dataframe"
   ]
  },
  {
   "cell_type": "markdown",
   "metadata": {},
   "source": [
    "After cleaning company names, I create a dataframe for each individual company to further clean as well as further narrow the values in the \"model\" column to show aircraft still in production for [Airbus](https://www.airbus.com/en/products-services/commercial-aircraft/passenger-aircraft 'Airbus Passenger Aircraft'), and [Boeing](https://www.boeing.com/commercial#products-and-services 'Boeing Commercial Aircraft') based off of the individual companies website product list."
   ]
  },
  {
   "cell_type": "code",
   "execution_count": 15,
   "metadata": {
    "scrolled": true
   },
   "outputs": [
    {
     "data": {
      "text/html": [
       "<div>\n",
       "<style scoped>\n",
       "    .dataframe tbody tr th:only-of-type {\n",
       "        vertical-align: middle;\n",
       "    }\n",
       "\n",
       "    .dataframe tbody tr th {\n",
       "        vertical-align: top;\n",
       "    }\n",
       "\n",
       "    .dataframe thead th {\n",
       "        text-align: right;\n",
       "    }\n",
       "</style>\n",
       "<table border=\"1\" class=\"dataframe\">\n",
       "  <thead>\n",
       "    <tr style=\"text-align: right;\">\n",
       "      <th></th>\n",
       "      <th>aircraft_category</th>\n",
       "      <th>make</th>\n",
       "      <th>model</th>\n",
       "      <th>engine_type</th>\n",
       "      <th>number_of_engines</th>\n",
       "      <th>aircraft_damage</th>\n",
       "      <th>injury_severity</th>\n",
       "      <th>weather_condition</th>\n",
       "      <th>event_date</th>\n",
       "    </tr>\n",
       "  </thead>\n",
       "  <tbody>\n",
       "    <tr>\n",
       "      <th>84</th>\n",
       "      <td>NaN</td>\n",
       "      <td>Boeing</td>\n",
       "      <td>737-222</td>\n",
       "      <td>Turbo Fan</td>\n",
       "      <td>2.0</td>\n",
       "      <td>Destroyed</td>\n",
       "      <td>Fatal(78)</td>\n",
       "      <td>IMC</td>\n",
       "      <td>1982-01-13</td>\n",
       "    </tr>\n",
       "    <tr>\n",
       "      <th>320</th>\n",
       "      <td>Airplane</td>\n",
       "      <td>Boeing</td>\n",
       "      <td>B737-2H4</td>\n",
       "      <td>Turbo Jet</td>\n",
       "      <td>2.0</td>\n",
       "      <td>Minor</td>\n",
       "      <td>Incident</td>\n",
       "      <td>IMC</td>\n",
       "      <td>1982-02-15</td>\n",
       "    </tr>\n",
       "    <tr>\n",
       "      <th>344</th>\n",
       "      <td>NaN</td>\n",
       "      <td>Boeing</td>\n",
       "      <td>727-235</td>\n",
       "      <td>Turbo Fan</td>\n",
       "      <td>3.0</td>\n",
       "      <td>Substantial</td>\n",
       "      <td>Non-Fatal</td>\n",
       "      <td>VMC</td>\n",
       "      <td>1982-02-17</td>\n",
       "    </tr>\n",
       "  </tbody>\n",
       "</table>\n",
       "</div>"
      ],
      "text/plain": [
       "    aircraft_category    make     model engine_type  number_of_engines  \\\n",
       "84                NaN  Boeing   737-222   Turbo Fan                2.0   \n",
       "320          Airplane  Boeing  B737-2H4   Turbo Jet                2.0   \n",
       "344               NaN  Boeing   727-235   Turbo Fan                3.0   \n",
       "\n",
       "    aircraft_damage injury_severity weather_condition event_date  \n",
       "84        Destroyed       Fatal(78)               IMC 1982-01-13  \n",
       "320           Minor        Incident               IMC 1982-02-15  \n",
       "344     Substantial       Non-Fatal               VMC 1982-02-17  "
      ]
     },
     "execution_count": 15,
     "metadata": {},
     "output_type": "execute_result"
    }
   ],
   "source": [
    "# Creating a dataframe with Boeing specific aircraft\n",
    "boeing = avi_records[avi_records['make'].str.contains('Boeing', na=False)]\n",
    "boeing.head(3)"
   ]
  },
  {
   "cell_type": "code",
   "execution_count": 16,
   "metadata": {
    "scrolled": true
   },
   "outputs": [],
   "source": [
    "boeing_production = ['B777', 'B-777', '777', '737-291', '737']\n",
    "boeing = boeing[boeing['model'].isin(boeing_production)]"
   ]
  },
  {
   "cell_type": "markdown",
   "metadata": {},
   "source": [
    "After some research on the B777, and 737-291 I concluded that these planes are the same Models as the 777 and 737 aircrafts so I replace those values with their commonly used model name."
   ]
  },
  {
   "cell_type": "code",
   "execution_count": 17,
   "metadata": {},
   "outputs": [],
   "source": [
    "# Cleaning the Boeing dataframe\n",
    "boeing['model'] = boeing['model'].str.replace('B-777', '777')"
   ]
  },
  {
   "cell_type": "code",
   "execution_count": 18,
   "metadata": {},
   "outputs": [],
   "source": [
    "boeing['model'] = boeing['model'].str.replace('B777', '777')"
   ]
  },
  {
   "cell_type": "code",
   "execution_count": 19,
   "metadata": {},
   "outputs": [],
   "source": [
    "boeing['model'] = boeing['model'].str.replace('737-291', '737')"
   ]
  },
  {
   "cell_type": "code",
   "execution_count": 20,
   "metadata": {},
   "outputs": [],
   "source": [
    "boeing = boeing[~boeing['aircraft_damage'].isin(['Unknown'])]"
   ]
  },
  {
   "cell_type": "code",
   "execution_count": 21,
   "metadata": {},
   "outputs": [],
   "source": [
    "boeing['engine_type'] = boeing['engine_type'].replace('Unknown', 'Turbo Fan')"
   ]
  },
  {
   "cell_type": "markdown",
   "metadata": {},
   "source": [
    "### Cleaning Airbus Dataframe"
   ]
  },
  {
   "cell_type": "code",
   "execution_count": 22,
   "metadata": {
    "scrolled": true
   },
   "outputs": [
    {
     "data": {
      "text/html": [
       "<div>\n",
       "<style scoped>\n",
       "    .dataframe tbody tr th:only-of-type {\n",
       "        vertical-align: middle;\n",
       "    }\n",
       "\n",
       "    .dataframe tbody tr th {\n",
       "        vertical-align: top;\n",
       "    }\n",
       "\n",
       "    .dataframe thead th {\n",
       "        text-align: right;\n",
       "    }\n",
       "</style>\n",
       "<table border=\"1\" class=\"dataframe\">\n",
       "  <thead>\n",
       "    <tr style=\"text-align: right;\">\n",
       "      <th></th>\n",
       "      <th>aircraft_category</th>\n",
       "      <th>make</th>\n",
       "      <th>model</th>\n",
       "      <th>engine_type</th>\n",
       "      <th>number_of_engines</th>\n",
       "      <th>aircraft_damage</th>\n",
       "      <th>injury_severity</th>\n",
       "      <th>weather_condition</th>\n",
       "      <th>event_date</th>\n",
       "    </tr>\n",
       "  </thead>\n",
       "  <tbody>\n",
       "    <tr>\n",
       "      <th>6737</th>\n",
       "      <td>NaN</td>\n",
       "      <td>Airbus</td>\n",
       "      <td>A-300B4-2C</td>\n",
       "      <td>Turbo Fan</td>\n",
       "      <td>2.0</td>\n",
       "      <td>Minor</td>\n",
       "      <td>Incident</td>\n",
       "      <td>VMC</td>\n",
       "      <td>1983-11-06</td>\n",
       "    </tr>\n",
       "    <tr>\n",
       "      <th>11775</th>\n",
       "      <td>NaN</td>\n",
       "      <td>Airbus</td>\n",
       "      <td>A-300B4-2C</td>\n",
       "      <td>Turbo Fan</td>\n",
       "      <td>2.0</td>\n",
       "      <td>NaN</td>\n",
       "      <td>Non-Fatal</td>\n",
       "      <td>IMC</td>\n",
       "      <td>1985-05-28</td>\n",
       "    </tr>\n",
       "    <tr>\n",
       "      <th>13699</th>\n",
       "      <td>NaN</td>\n",
       "      <td>Airbus</td>\n",
       "      <td>A-300 B4-203</td>\n",
       "      <td>Turbo Fan</td>\n",
       "      <td>2.0</td>\n",
       "      <td>Minor</td>\n",
       "      <td>Incident</td>\n",
       "      <td>VMC</td>\n",
       "      <td>1985-12-30</td>\n",
       "    </tr>\n",
       "  </tbody>\n",
       "</table>\n",
       "</div>"
      ],
      "text/plain": [
       "      aircraft_category    make         model engine_type  number_of_engines  \\\n",
       "6737                NaN  Airbus    A-300B4-2C   Turbo Fan                2.0   \n",
       "11775               NaN  Airbus    A-300B4-2C   Turbo Fan                2.0   \n",
       "13699               NaN  Airbus  A-300 B4-203   Turbo Fan                2.0   \n",
       "\n",
       "      aircraft_damage injury_severity weather_condition event_date  \n",
       "6737            Minor        Incident               VMC 1983-11-06  \n",
       "11775             NaN       Non-Fatal               IMC 1985-05-28  \n",
       "13699           Minor        Incident               VMC 1985-12-30  "
      ]
     },
     "execution_count": 22,
     "metadata": {},
     "output_type": "execute_result"
    }
   ],
   "source": [
    "# Creating a dataframe with Airbus specific aircraft\n",
    "airbus = avi_records[avi_records['make'].str.contains('Airbus', na=False)]\n",
    "airbus.head(3)"
   ]
  },
  {
   "cell_type": "code",
   "execution_count": 23,
   "metadata": {},
   "outputs": [],
   "source": [
    "# updating airbus dataframe to have only aircraft still in production\n",
    "airbus_production = ['A320-211', 'A-320-211', 'A-320', 'A320', 'A330',\n",
    "                     'A320-321', 'A320-233', '320', 'A321', 'Airbus A330',\n",
    "                     'A320 211', '321', 'A320 - 216', 'A320 - 211', '330', \n",
    "                     'A320 233', 'A321-271N', 'A220', 'A320-271N', 'A320-251N',\n",
    "                     '220']\n",
    "airbus = airbus[airbus['model'].isin(airbus_production)]"
   ]
  },
  {
   "cell_type": "code",
   "execution_count": 24,
   "metadata": {},
   "outputs": [],
   "source": [
    "# Cleaning the Airbus dataframe\n",
    "airbus['model'] = airbus['model'].str.replace('A320 233', 'A320-233')"
   ]
  },
  {
   "cell_type": "code",
   "execution_count": 25,
   "metadata": {},
   "outputs": [],
   "source": [
    "airbus['model'] = airbus['model'].str.replace('A320 211', 'A320-211')"
   ]
  },
  {
   "cell_type": "code",
   "execution_count": 26,
   "metadata": {},
   "outputs": [],
   "source": [
    "airbus['model'] = airbus['model'].str.replace('Airbus A330', 'A330')"
   ]
  },
  {
   "cell_type": "code",
   "execution_count": 27,
   "metadata": {},
   "outputs": [],
   "source": [
    "airbus['model'] = airbus['model'].str.replace(' ', '')"
   ]
  },
  {
   "cell_type": "code",
   "execution_count": 28,
   "metadata": {},
   "outputs": [],
   "source": [
    "airbus['model'] = airbus['model'].str.replace('A-320', 'A320')"
   ]
  },
  {
   "cell_type": "code",
   "execution_count": 29,
   "metadata": {},
   "outputs": [],
   "source": [
    "airbus['model'] = airbus['model'].apply(lambda x: 'A' + x if not x.startswith('A') else x)"
   ]
  },
  {
   "cell_type": "markdown",
   "metadata": {},
   "source": [
    "### Combining Datasets"
   ]
  },
  {
   "cell_type": "code",
   "execution_count": 30,
   "metadata": {},
   "outputs": [],
   "source": [
    "# Combining the two datasets\n",
    "top_manufacturers = pd.concat([boeing, airbus])"
   ]
  },
  {
   "cell_type": "code",
   "execution_count": 31,
   "metadata": {},
   "outputs": [],
   "source": [
    "# Completing the last of the cleaning to remove NaN values\n",
    "top_manufacturers['aircraft_category'] = top_manufacturers['aircraft_category'].fillna('Airplane')"
   ]
  },
  {
   "cell_type": "code",
   "execution_count": 32,
   "metadata": {},
   "outputs": [],
   "source": [
    "top_manufacturers['engine_type'] = top_manufacturers['engine_type'].fillna('Turbo Fan')"
   ]
  },
  {
   "cell_type": "code",
   "execution_count": 33,
   "metadata": {},
   "outputs": [],
   "source": [
    "top_manufacturers['number_of_engines'] = top_manufacturers['number_of_engines'].fillna(2.0)"
   ]
  },
  {
   "cell_type": "code",
   "execution_count": 34,
   "metadata": {},
   "outputs": [],
   "source": [
    "top_manufacturers['weather_condition'] = top_manufacturers['weather_condition'].fillna('UNK')"
   ]
  },
  {
   "cell_type": "code",
   "execution_count": 35,
   "metadata": {},
   "outputs": [],
   "source": [
    "top_manufacturers = top_manufacturers.dropna(subset= ['aircraft_damage', 'injury_severity', 'event_date'])"
   ]
  },
  {
   "cell_type": "code",
   "execution_count": 36,
   "metadata": {},
   "outputs": [],
   "source": [
    "# Removing numbers and symbols from 'injury_severity' to make values uniform\n",
    "top_manufacturers['injury_severity'] = top_manufacturers['injury_severity'].apply(lambda x: ''.join(y for y in x if not y.isdigit()))"
   ]
  },
  {
   "cell_type": "code",
   "execution_count": 37,
   "metadata": {},
   "outputs": [
    {
     "data": {
      "text/plain": [
       "injury_severity\n",
       "Non-Fatal    164\n",
       "Fatal         31\n",
       "Incident      13\n",
       "Name: count, dtype: int64"
      ]
     },
     "execution_count": 37,
     "metadata": {},
     "output_type": "execute_result"
    }
   ],
   "source": [
    "top_manufacturers['injury_severity'] = top_manufacturers['injury_severity'].str.replace('Fatal()', 'Fatal')\n",
    "top_manufacturers['injury_severity'].value_counts()"
   ]
  },
  {
   "cell_type": "code",
   "execution_count": 38,
   "metadata": {},
   "outputs": [
    {
     "data": {
      "text/html": [
       "<div>\n",
       "<style scoped>\n",
       "    .dataframe tbody tr th:only-of-type {\n",
       "        vertical-align: middle;\n",
       "    }\n",
       "\n",
       "    .dataframe tbody tr th {\n",
       "        vertical-align: top;\n",
       "    }\n",
       "\n",
       "    .dataframe thead th {\n",
       "        text-align: right;\n",
       "    }\n",
       "</style>\n",
       "<table border=\"1\" class=\"dataframe\">\n",
       "  <thead>\n",
       "    <tr style=\"text-align: right;\">\n",
       "      <th></th>\n",
       "      <th>aircraft_category</th>\n",
       "      <th>make</th>\n",
       "      <th>model</th>\n",
       "      <th>engine_type</th>\n",
       "      <th>number_of_engines</th>\n",
       "      <th>aircraft_damage</th>\n",
       "      <th>injury_severity</th>\n",
       "      <th>weather_condition</th>\n",
       "      <th>event_date</th>\n",
       "    </tr>\n",
       "  </thead>\n",
       "  <tbody>\n",
       "    <tr>\n",
       "      <th>0</th>\n",
       "      <td>Airplane</td>\n",
       "      <td>Boeing</td>\n",
       "      <td>737</td>\n",
       "      <td>Turbo Fan</td>\n",
       "      <td>2.0</td>\n",
       "      <td>Minor</td>\n",
       "      <td>Incident</td>\n",
       "      <td>VMC</td>\n",
       "      <td>1982-08-05</td>\n",
       "    </tr>\n",
       "    <tr>\n",
       "      <th>1</th>\n",
       "      <td>Airplane</td>\n",
       "      <td>Boeing</td>\n",
       "      <td>737</td>\n",
       "      <td>Turbo Fan</td>\n",
       "      <td>2.0</td>\n",
       "      <td>Minor</td>\n",
       "      <td>Incident</td>\n",
       "      <td>IMC</td>\n",
       "      <td>1982-08-12</td>\n",
       "    </tr>\n",
       "    <tr>\n",
       "      <th>2</th>\n",
       "      <td>Airplane</td>\n",
       "      <td>Boeing</td>\n",
       "      <td>737</td>\n",
       "      <td>Turbo Jet</td>\n",
       "      <td>2.0</td>\n",
       "      <td>Destroyed</td>\n",
       "      <td>Fatal</td>\n",
       "      <td>VMC</td>\n",
       "      <td>1991-03-03</td>\n",
       "    </tr>\n",
       "    <tr>\n",
       "      <th>3</th>\n",
       "      <td>Airplane</td>\n",
       "      <td>Boeing</td>\n",
       "      <td>737</td>\n",
       "      <td>Turbo Fan</td>\n",
       "      <td>2.0</td>\n",
       "      <td>Substantial</td>\n",
       "      <td>Non-Fatal</td>\n",
       "      <td>VMC</td>\n",
       "      <td>1991-10-16</td>\n",
       "    </tr>\n",
       "    <tr>\n",
       "      <th>4</th>\n",
       "      <td>Airplane</td>\n",
       "      <td>Boeing</td>\n",
       "      <td>777</td>\n",
       "      <td>Turbo Fan</td>\n",
       "      <td>2.0</td>\n",
       "      <td>Substantial</td>\n",
       "      <td>Non-Fatal</td>\n",
       "      <td>VMC</td>\n",
       "      <td>1997-05-14</td>\n",
       "    </tr>\n",
       "  </tbody>\n",
       "</table>\n",
       "</div>"
      ],
      "text/plain": [
       "  aircraft_category    make model engine_type  number_of_engines  \\\n",
       "0          Airplane  Boeing   737   Turbo Fan                2.0   \n",
       "1          Airplane  Boeing   737   Turbo Fan                2.0   \n",
       "2          Airplane  Boeing   737   Turbo Jet                2.0   \n",
       "3          Airplane  Boeing   737   Turbo Fan                2.0   \n",
       "4          Airplane  Boeing   777   Turbo Fan                2.0   \n",
       "\n",
       "  aircraft_damage injury_severity weather_condition event_date  \n",
       "0           Minor        Incident               VMC 1982-08-05  \n",
       "1           Minor        Incident               IMC 1982-08-12  \n",
       "2       Destroyed           Fatal               VMC 1991-03-03  \n",
       "3     Substantial       Non-Fatal               VMC 1991-10-16  \n",
       "4     Substantial       Non-Fatal               VMC 1997-05-14  "
      ]
     },
     "execution_count": 38,
     "metadata": {},
     "output_type": "execute_result"
    }
   ],
   "source": [
    "# Reseting index now that the dataset is cleaned.\n",
    "top_manufacturers = top_manufacturers.reset_index(drop=True)\n",
    "top_manufacturers.head()"
   ]
  },
  {
   "cell_type": "code",
   "execution_count": 39,
   "metadata": {},
   "outputs": [],
   "source": [
    "# Saving a cleaned dataset as CSV\n",
    "top_manufacturers.to_csv('cleaned_top_manufacturers_df.csv')"
   ]
  },
  {
   "cell_type": "markdown",
   "metadata": {},
   "source": [
    "# Exploratory Data Analysis"
   ]
  },
  {
   "cell_type": "code",
   "execution_count": 40,
   "metadata": {},
   "outputs": [],
   "source": [
    "import matplotlib\n",
    "import matplotlib.pyplot as plt\n",
    "%matplotlib inline\n"
   ]
  },
  {
   "cell_type": "markdown",
   "metadata": {},
   "source": [
    "### Overall Data \n",
    "Overall, the Boeing 737 appears the most in the dataset, but that doesn’t necessarily mean that it is a high-risk aircraft. Due to its popularity and reliability, it is a highly sought-out aircraft. The Airbus aircraft, namely the Airbus A220 appears once in the dataset. That alone is enough to give this aircraft high praise for its safety and reliability."
   ]
  },
  {
   "cell_type": "code",
   "execution_count": 41,
   "metadata": {
    "scrolled": false
   },
   "outputs": [
    {
     "data": {
      "text/plain": [
       "([<matplotlib.axis.YTick at 0x182d78ac7f0>,\n",
       "  <matplotlib.axis.YTick at 0x182d78ac2b0>,\n",
       "  <matplotlib.axis.YTick at 0x182d7928ee0>,\n",
       "  <matplotlib.axis.YTick at 0x182d792fc10>,\n",
       "  <matplotlib.axis.YTick at 0x182d7938700>,\n",
       "  <matplotlib.axis.YTick at 0x182d7938f70>,\n",
       "  <matplotlib.axis.YTick at 0x182d792f3d0>,\n",
       "  <matplotlib.axis.YTick at 0x182d793daf0>,\n",
       "  <matplotlib.axis.YTick at 0x182d79455e0>,\n",
       "  <matplotlib.axis.YTick at 0x182d794ce80>,\n",
       "  <matplotlib.axis.YTick at 0x182d7956bb0>,\n",
       "  <matplotlib.axis.YTick at 0x182d795d6a0>,\n",
       "  <matplotlib.axis.YTick at 0x182d795df10>,\n",
       "  <matplotlib.axis.YTick at 0x182d79565b0>],\n",
       " [Text(0, 0, '0'),\n",
       "  Text(0, 10, '10'),\n",
       "  Text(0, 20, '20'),\n",
       "  Text(0, 30, '30'),\n",
       "  Text(0, 40, '40'),\n",
       "  Text(0, 50, '50'),\n",
       "  Text(0, 60, '60'),\n",
       "  Text(0, 70, '70'),\n",
       "  Text(0, 80, '80'),\n",
       "  Text(0, 90, '90'),\n",
       "  Text(0, 100, '100'),\n",
       "  Text(0, 110, '110'),\n",
       "  Text(0, 120, '120'),\n",
       "  Text(0, 130, '130')])"
      ]
     },
     "execution_count": 41,
     "metadata": {},
     "output_type": "execute_result"
    },
    {
     "data": {
      "image/png": "[encoded data removed]",
      "text/plain": [
       "<Figure size 864x576 with 1 Axes>"
      ]
     },
     "metadata": {
      "needs_background": "light"
     },
     "output_type": "display_data"
    }
   ],
   "source": [
    "# Graph of overall data\n",
    "top_manufacturers[['make','model']].value_counts().plot.bar(figsize=(12, 8), fontsize=13, rot=45)\n",
    "\n",
    "plt.title('Boeing/Airbus Recorded Instances of Accidents', fontsize=25)\n",
    "plt.xlabel('Aircraft Make and Model', fontsize=15)\n",
    "plt.ylabel('# of Recorded Instances', fontsize=15)\n",
    "plt.yticks(range(0, 140, 10))"
   ]
  },
  {
   "cell_type": "markdown",
   "metadata": {},
   "source": [
    "### Recorded Damage\n",
    "The overall damage shows promising results with minor damage being the majority outcome for most of the aircraft present in the dataset, then followed by substantial damage, and destroyed."
   ]
  },
  {
   "cell_type": "code",
   "execution_count": 42,
   "metadata": {},
   "outputs": [
    {
     "data": {
      "text/plain": [
       "([<matplotlib.axis.YTick at 0x182d7995be0>,\n",
       "  <matplotlib.axis.YTick at 0x182d7995580>,\n",
       "  <matplotlib.axis.YTick at 0x182d7a27ee0>,\n",
       "  <matplotlib.axis.YTick at 0x182d7a1dac0>,\n",
       "  <matplotlib.axis.YTick at 0x182d7a30df0>,\n",
       "  <matplotlib.axis.YTick at 0x182d7a368e0>,\n",
       "  <matplotlib.axis.YTick at 0x182d7a3c3d0>,\n",
       "  <matplotlib.axis.YTick at 0x182d7a360d0>,\n",
       "  <matplotlib.axis.YTick at 0x182d798e820>,\n",
       "  <matplotlib.axis.YTick at 0x182d7a50af0>,\n",
       "  <matplotlib.axis.YTick at 0x182d7a5b5e0>,\n",
       "  <matplotlib.axis.YTick at 0x182d7a5be50>,\n",
       "  <matplotlib.axis.YTick at 0x182d7a506a0>,\n",
       "  <matplotlib.axis.YTick at 0x182d7a5fdc0>],\n",
       " [Text(0, 0, '0'),\n",
       "  Text(0, 5, '5'),\n",
       "  Text(0, 10, '10'),\n",
       "  Text(0, 15, '15'),\n",
       "  Text(0, 20, '20'),\n",
       "  Text(0, 25, '25'),\n",
       "  Text(0, 30, '30'),\n",
       "  Text(0, 35, '35'),\n",
       "  Text(0, 40, '40'),\n",
       "  Text(0, 45, '45'),\n",
       "  Text(0, 50, '50'),\n",
       "  Text(0, 55, '55'),\n",
       "  Text(0, 60, '60'),\n",
       "  Text(0, 65, '65')])"
      ]
     },
     "execution_count": 42,
     "metadata": {},
     "output_type": "execute_result"
    },
    {
     "data": {
      "image/png": "[encoded data removed]",
      "text/plain": [
       "<Figure size 864x576 with 1 Axes>"
      ]
     },
     "metadata": {
      "needs_background": "light"
     },
     "output_type": "display_data"
    }
   ],
   "source": [
    "# Recorded damage for each aircraft in the dataset\n",
    "top_manufacturers.groupby(['make', 'model', 'aircraft_damage']).size().unstack().plot(kind='bar', color=['#fc0303', '#013f94', '#fca503'], figsize=(12, 8), fontsize=13, rot=45)\n",
    "\n",
    "plt.title('Recorded Damage to Aircraft', fontsize=25)\n",
    "plt.legend(title='Aircraft Damage')\n",
    "plt.xlabel('Aircraft Make and Models', fontsize=15)\n",
    "plt.ylabel('Recorded Instances', fontsize=15)\n",
    "plt.yticks(range(0, 70, 5))"
   ]
  },
  {
   "cell_type": "markdown",
   "metadata": {},
   "source": [
    "### Injury Severity\n",
    "Just like the damage to aircraft, the injury severity also shows a great overall outcome for these incidents where the best outcome in any kind of aircraft-related accidents is Non-Fatal. Unfortunately, the next outcome is Fatal, followed by Incidents. Despite the Boeing 737 holding the most records on this dataset, the majority and by a large margin is non-fatal, which speaks volumes towards the aircraft’s safety."
   ]
  },
  {
   "cell_type": "code",
   "execution_count": 43,
   "metadata": {},
   "outputs": [
    {
     "data": {
      "text/plain": [
       "([<matplotlib.axis.YTick at 0x182d7aaeb80>,\n",
       "  <matplotlib.axis.YTick at 0x182d7aae6a0>,\n",
       "  <matplotlib.axis.YTick at 0x182d7b2aa60>,\n",
       "  <matplotlib.axis.YTick at 0x182d7b30550>,\n",
       "  <matplotlib.axis.YTick at 0x182d7b30dc0>,\n",
       "  <matplotlib.axis.YTick at 0x182d7b30700>,\n",
       "  <matplotlib.axis.YTick at 0x182d7b35940>,\n",
       "  <matplotlib.axis.YTick at 0x182d7a9b9a0>,\n",
       "  <matplotlib.axis.YTick at 0x182d7b4bfa0>,\n",
       "  <matplotlib.axis.YTick at 0x182d7b53cd0>,\n",
       "  <matplotlib.axis.YTick at 0x182d7b4b8e0>,\n",
       "  <matplotlib.axis.YTick at 0x182d7b5abb0>,\n",
       "  <matplotlib.axis.YTick at 0x182d7b5f6a0>,\n",
       "  <matplotlib.axis.YTick at 0x182d7b5ff10>],\n",
       " [Text(0, 0, '0'),\n",
       "  Text(0, 10, '10'),\n",
       "  Text(0, 20, '20'),\n",
       "  Text(0, 30, '30'),\n",
       "  Text(0, 40, '40'),\n",
       "  Text(0, 50, '50'),\n",
       "  Text(0, 60, '60'),\n",
       "  Text(0, 70, '70'),\n",
       "  Text(0, 80, '80'),\n",
       "  Text(0, 90, '90'),\n",
       "  Text(0, 100, '100'),\n",
       "  Text(0, 110, '110'),\n",
       "  Text(0, 120, '120'),\n",
       "  Text(0, 130, '130')])"
      ]
     },
     "execution_count": 43,
     "metadata": {},
     "output_type": "execute_result"
    },
    {
     "data": {
      "image/png": "[encoded data removed]",
      "text/plain": [
       "<Figure size 864x576 with 1 Axes>"
      ]
     },
     "metadata": {
      "needs_background": "light"
     },
     "output_type": "display_data"
    }
   ],
   "source": [
    "# Passenger injury severity\n",
    "top_manufacturers.groupby(['make', 'model', 'injury_severity']).size().unstack().plot(kind='bar', color=['#fc0303', '#fca503', '#013f94'], figsize=(12, 8), fontsize=13, rot=45)\n",
    "\n",
    "plt.title('Passenger Injury Severity', fontsize=25)\n",
    "plt.legend(title='Injury Severity')\n",
    "plt.xlabel('Aircraft Make and Models', fontsize=15)\n",
    "plt.ylabel('Recorded Instances', fontsize=15)\n",
    "plt.yticks(range(0, 140, 10))"
   ]
  },
  {
   "cell_type": "markdown",
   "metadata": {},
   "source": [
    "## Conclusions"
   ]
  },
  {
   "cell_type": "markdown",
   "metadata": {},
   "source": [
    "The analysis of this data helps with answering the following questions to narrow down a low-risk aircraft.\n",
    "\n",
    "**Which Aircraft has the highest damage severity overall?**\n",
    "The aircraft that holds the highest damage severity would be the Boeing 737, mainly due to its overwhelming number of records. If you were to compare records based off the damage outcome of the aircraft, then the Airbus A320 would have the highest severity as its destroyed outcome is almost equal to its minor damage outcome.\n",
    "\n",
    "**Which aircraft holds the highest fatalities as compared to no fatalities?**\n",
    "By comparing the injury severity outcomes, the Airbus A320 holds the most fatalities based on its fatal to non-fatal ratio. The Boeing 737 on the other hand has a high non-fatal outcome compared to its fatal outcomes.\n",
    "\n",
    "**Which Aircraft poses the lowest risk to the company to begin this new endeavor?**\n",
    "While its impossible to say that this one aircraft will cause no problems during its time of service, it is possible to find one or even a few that will be of low-risk to the company starting off. Going off just the data, the Airbus A220 and A320-271N can also be considered low risk as these two aircraft only has 1 recorded accident, and it ended with both minor damage to the aircraft, and no fatalities. The Boeing 737 overwhelming data count also works in its favor to qualify as a low-risk aircraft since most recorded damage is in the minor category, and its injury severity is majority non-fatal.\n"
   ]
  },
  {
   "cell_type": "markdown",
   "metadata": {},
   "source": [
    "## Limitations"
   ]
  },
  {
   "cell_type": "markdown",
   "metadata": {},
   "source": [
    "A major limitation with this dataset is that from the very beginning it contains a significant amount of null values or unknowns that could make the data be as accurate as possible. Another limitation from this dataset is that it only shows the recorded accidents these planes have experienced since thier first flight, and it doesn't exactly show the success flight rate for each aircraft."
   ]
  },
  {
   "cell_type": "markdown",
   "metadata": {},
   "source": [
    "## Recommendations"
   ]
  },
  {
   "cell_type": "markdown",
   "metadata": {},
   "source": [
    "The 3 aircraft I recommend are the **Boeing 737**, and the **Airbus A220** and **A321-271N**. Further research and comparison of these aircraft is necessary to find out where each aircraft excels or falls short to ensure not only safety of the potential consumer, but for the success of the company in this field. \n",
    "\n",
    "I also recommend **gathering and including data of successful flights** over a period of time as this can help with comparing the total accidents to successful flights for the individual aircraft."
   ]
  },
  {
   "cell_type": "markdown",
   "metadata": {},
   "source": [
    "## Next Steps"
   ]
  },
  {
   "cell_type": "markdown",
   "metadata": {},
   "source": [
    "Further analyzing the data could also give a better understanding of the safety of each aircraft, and how over the years the safety rating of each individual aircraft has advanced.\n",
    "\n",
    "Also, exploring data that contains successful flight records either on a daily, weekly, or monthly basis for these aircraft can further help to identify a low-risk aircraft by comparing overall data of recorded accidents to overall successful flights.\n",
    "\n",
    "If possible, getting record data of what the causes of these aircraft accidents can help further narrow down a low-risk aircraft. For example that kind of data could potentially give better insight on how well these aircraft operate in unpredictable weather, or if was system failures that caused these accidents, over human error."
   ]
  }
 ],
 "metadata": {
  "kernelspec": {
   "display_name": "Python (learn-env)",
   "language": "python",
   "name": "learn-env"
  },
  "language_info": {
   "codemirror_mode": {
    "name": "ipython",
    "version": 3
   },
   "file_extension": ".py",
   "mimetype": "text/x-python",
   "name": "python",
   "nbconvert_exporter": "python",
   "pygments_lexer": "ipython3",
   "version": "3.8.5"
  }
 },
 "nbformat": 4,
 "nbformat_minor": 4
}
